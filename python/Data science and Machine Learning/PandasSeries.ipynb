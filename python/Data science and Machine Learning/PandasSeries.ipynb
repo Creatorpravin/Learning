{
 "cells": [
  {
   "cell_type": "code",
   "execution_count": 1,
   "id": "17a600dc-fcdb-4e55-a384-24dbca67e2da",
   "metadata": {},
   "outputs": [],
   "source": [
    "import pandas as pd"
   ]
  },
  {
   "cell_type": "code",
   "execution_count": 2,
   "id": "b86ebe59-4ee1-4647-af6e-7ff50eb1e1f6",
   "metadata": {},
   "outputs": [],
   "source": [
    "li = [3,6,8,10,30]"
   ]
  },
  {
   "cell_type": "code",
   "execution_count": 3,
   "id": "99d6e8b1-7aed-4292-86ba-2a008bac54a2",
   "metadata": {},
   "outputs": [],
   "source": [
    "s1 = pd.Series(li)"
   ]
  },
  {
   "cell_type": "code",
   "execution_count": 4,
   "id": "7c5d1c4b-90a5-4f07-8a03-42f919f6e6e4",
   "metadata": {},
   "outputs": [
    {
     "data": {
      "text/plain": [
       "0     3\n",
       "1     6\n",
       "2     8\n",
       "3    10\n",
       "4    30\n",
       "dtype: int64"
      ]
     },
     "execution_count": 4,
     "metadata": {},
     "output_type": "execute_result"
    }
   ],
   "source": [
    "s1"
   ]
  },
  {
   "cell_type": "code",
   "execution_count": 5,
   "id": "dec86af5-bf28-45b5-9604-a371486420a6",
   "metadata": {},
   "outputs": [],
   "source": [
    "d1 = {\"one\":10, \"second\" : 100, \"third\": 1000}"
   ]
  },
  {
   "cell_type": "code",
   "execution_count": 6,
   "id": "311b14ff-f099-4244-8b4d-73b07a888181",
   "metadata": {},
   "outputs": [],
   "source": [
    "s2 = pd.Series(d1)"
   ]
  },
  {
   "cell_type": "code",
   "execution_count": 7,
   "id": "1e239e65-15e8-4009-bfad-7df787127ac0",
   "metadata": {},
   "outputs": [
    {
     "data": {
      "text/plain": [
       "one         10\n",
       "second     100\n",
       "third     1000\n",
       "dtype: int64"
      ]
     },
     "execution_count": 7,
     "metadata": {},
     "output_type": "execute_result"
    }
   ],
   "source": [
    "s2"
   ]
  },
  {
   "cell_type": "code",
   "execution_count": null,
   "id": "05876255-3f45-4a3d-90c4-5e43d78d318e",
   "metadata": {},
   "outputs": [],
   "source": []
  }
 ],
 "metadata": {
  "kernelspec": {
   "display_name": "Python 3 (ipykernel)",
   "language": "python",
   "name": "python3"
  },
  "language_info": {
   "codemirror_mode": {
    "name": "ipython",
    "version": 3
   },
   "file_extension": ".py",
   "mimetype": "text/x-python",
   "name": "python",
   "nbconvert_exporter": "python",
   "pygments_lexer": "ipython3",
   "version": "3.10.12"
  }
 },
 "nbformat": 4,
 "nbformat_minor": 5
}
