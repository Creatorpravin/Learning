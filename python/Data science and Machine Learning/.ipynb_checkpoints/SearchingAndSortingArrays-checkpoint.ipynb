{
 "cells": [
  {
   "cell_type": "code",
   "execution_count": 1,
   "id": "c9f11211-c6b4-4567-9c6e-0e7a9c877129",
   "metadata": {},
   "outputs": [],
   "source": [
    "import numpy as np"
   ]
  },
  {
   "cell_type": "code",
   "execution_count": 2,
   "id": "c893033e-6468-428a-9f40-f721118316d3",
   "metadata": {},
   "outputs": [],
   "source": [
    "a = np.array([1,2,3,3,5,6,7,8,9,10,11,12,13,1,4])"
   ]
  },
  {
   "cell_type": "code",
   "execution_count": 3,
   "id": "19da91d2-98ce-4572-a685-2a003656d728",
   "metadata": {},
   "outputs": [],
   "source": [
    "x = np.where(a == 1)"
   ]
  },
  {
   "cell_type": "code",
   "execution_count": 4,
   "id": "81707db0-40e7-4015-bddf-e38d84fc3a5c",
   "metadata": {},
   "outputs": [
    {
     "data": {
      "text/plain": [
       "(array([ 0, 13]),)"
      ]
     },
     "execution_count": 4,
     "metadata": {},
     "output_type": "execute_result"
    }
   ],
   "source": [
    "x"
   ]
  },
  {
   "cell_type": "code",
   "execution_count": 5,
   "id": "ffbc7233-8168-4f91-8e2a-ad5942ef968d",
   "metadata": {},
   "outputs": [],
   "source": [
    "y = np.where(a == 4)"
   ]
  },
  {
   "cell_type": "code",
   "execution_count": 7,
   "id": "07c41ba9-948f-45cf-bdf0-39638e518b8f",
   "metadata": {},
   "outputs": [
    {
     "data": {
      "text/plain": [
       "(array([14]),)"
      ]
     },
     "execution_count": 7,
     "metadata": {},
     "output_type": "execute_result"
    }
   ],
   "source": [
    "y"
   ]
  },
  {
   "cell_type": "code",
   "execution_count": 8,
   "id": "b6238bf3-0c2a-4b0e-8cef-43322a01627f",
   "metadata": {},
   "outputs": [],
   "source": [
    "ans = np.where(a%2 == 0)"
   ]
  },
  {
   "cell_type": "code",
   "execution_count": 9,
   "id": "4362469a-2fe8-417d-b967-bc32b7b01d2f",
   "metadata": {},
   "outputs": [
    {
     "data": {
      "text/plain": [
       "(array([ 1,  5,  7,  9, 11, 14]),)"
      ]
     },
     "execution_count": 9,
     "metadata": {},
     "output_type": "execute_result"
    }
   ],
   "source": [
    "ans"
   ]
  },
  {
   "cell_type": "code",
   "execution_count": 10,
   "id": "ac58de5c-b0c2-42e2-b6b9-99dba212176e",
   "metadata": {},
   "outputs": [
    {
     "data": {
      "text/plain": [
       "array([ 1,  1,  2,  3,  3,  4,  5,  6,  7,  8,  9, 10, 11, 12, 13])"
      ]
     },
     "execution_count": 10,
     "metadata": {},
     "output_type": "execute_result"
    }
   ],
   "source": [
    "np.sort(a)"
   ]
  },
  {
   "cell_type": "code",
   "execution_count": 11,
   "id": "e4f00679-860b-4a13-9038-936f219103cc",
   "metadata": {},
   "outputs": [],
   "source": [
    "a2 = np.array([44,12,89,55,66,73])"
   ]
  },
  {
   "cell_type": "code",
   "execution_count": 12,
   "id": "b3e2ac9b-d0c3-4f2f-b63a-93c253afc7f0",
   "metadata": {},
   "outputs": [
    {
     "data": {
      "text/plain": [
       "array([12, 44, 55, 66, 73, 89])"
      ]
     },
     "execution_count": 12,
     "metadata": {},
     "output_type": "execute_result"
    }
   ],
   "source": [
    "np.sort(a2)"
   ]
  },
  {
   "cell_type": "code",
   "execution_count": 13,
   "id": "ec475db9-76fe-4968-8f1b-b17e346f487e",
   "metadata": {},
   "outputs": [],
   "source": [
    "a3 = np.array([\"Mango\", \"Papaya\", \"Apple\"])"
   ]
  },
  {
   "cell_type": "code",
   "execution_count": 14,
   "id": "4b73fd7e-5d7e-47b2-b82d-a7698e15beda",
   "metadata": {},
   "outputs": [
    {
     "data": {
      "text/plain": [
       "array(['Apple', 'Mango', 'Papaya'], dtype='<U6')"
      ]
     },
     "execution_count": 14,
     "metadata": {},
     "output_type": "execute_result"
    }
   ],
   "source": [
    "np.sort(a3)"
   ]
  },
  {
   "cell_type": "code",
   "execution_count": null,
   "id": "ba2a211e-fc8d-403e-a825-e0916a2bdecb",
   "metadata": {},
   "outputs": [],
   "source": []
  }
 ],
 "metadata": {
  "kernelspec": {
   "display_name": "Python 3 (ipykernel)",
   "language": "python",
   "name": "python3"
  },
  "language_info": {
   "codemirror_mode": {
    "name": "ipython",
    "version": 3
   },
   "file_extension": ".py",
   "mimetype": "text/x-python",
   "name": "python",
   "nbconvert_exporter": "python",
   "pygments_lexer": "ipython3",
   "version": "3.10.12"
  }
 },
 "nbformat": 4,
 "nbformat_minor": 5
}
