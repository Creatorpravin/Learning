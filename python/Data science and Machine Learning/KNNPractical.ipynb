{
 "cells": [
  {
   "cell_type": "code",
   "execution_count": 1,
   "id": "5fc091d8-93e9-4619-a729-bcbb41ef089c",
   "metadata": {},
   "outputs": [],
   "source": [
    "import numpy as nm\n",
    "import matplotlib.pyplot as mtp\n",
    "import pandas as pd\n",
    "\n",
    "data_set = pd.read_csv('User_Data.csv')"
   ]
  },
  {
   "cell_type": "code",
   "execution_count": 3,
   "id": "87d08d87-3e39-477f-a6b8-20ff07c642bb",
   "metadata": {},
   "outputs": [],
   "source": [
    "x = data_set.iloc[:,[2,3]].values\n",
    "y = data_set.iloc[:,4].values"
   ]
  },
  {
   "cell_type": "code",
   "execution_count": null,
   "id": "dd79739b-8d44-4437-8465-a15b17a2b708",
   "metadata": {},
   "outputs": [],
   "source": []
  }
 ],
 "metadata": {
  "kernelspec": {
   "display_name": "Python 3 (ipykernel)",
   "language": "python",
   "name": "python3"
  },
  "language_info": {
   "codemirror_mode": {
    "name": "ipython",
    "version": 3
   },
   "file_extension": ".py",
   "mimetype": "text/x-python",
   "name": "python",
   "nbconvert_exporter": "python",
   "pygments_lexer": "ipython3",
   "version": "3.10.12"
  }
 },
 "nbformat": 4,
 "nbformat_minor": 5
}
